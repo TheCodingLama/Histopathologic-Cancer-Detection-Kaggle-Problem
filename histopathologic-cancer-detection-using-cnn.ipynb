{
 "cells": [
  {
   "cell_type": "code",
   "execution_count": 1,
   "metadata": {
    "_cell_guid": "79c7e3d0-c299-4dcb-8224-4455121ee9b0",
    "_uuid": "d629ff2d2480ee46fbb7e2d37f6b5fab8052498a"
   },
   "outputs": [
    {
     "name": "stderr",
     "output_type": "stream",
     "text": [
      "Using TensorFlow backend.\n"
     ]
    }
   ],
   "source": [
    "import os\n",
    "\n",
    "from pandas import DataFrame,concat\n",
    "from pandas import read_csv\n",
    "\n",
    "import seaborn\n",
    "from matplotlib import pyplot\n",
    "%matplotlib inline\n",
    "\n",
    "from sklearn.model_selection import train_test_split\n",
    "from sklearn.utils import shuffle\n",
    "\n",
    "from keras.models import Sequential\n",
    "from keras.layers import Conv2D,MaxPool2D,Flatten,Dropout,Dense,SeparableConv2D,BatchNormalization\n",
    "from keras.preprocessing.image import ImageDataGenerator\n",
    "from keras.callbacks import ModelCheckpoint, ReduceLROnPlateau\n",
    "\n",
    "from shutil import copyfile\n",
    "\n",
    "from numpy import ceil\n"
   ]
  },
  {
   "cell_type": "code",
   "execution_count": 2,
   "metadata": {
    "_uuid": "a8fe667e4a00d74b6a4b5f807e47181d39506272"
   },
   "outputs": [],
   "source": [
    "os.makedirs(\"../train_folder/0\")\n",
    "os.makedirs(\"../train_folder/1\")\n",
    "os.makedirs(\"../valid_folder/0\")\n",
    "os.makedirs(\"../valid_folder/1\")\n",
    "os.makedirs(\"../test_folder/test/\")"
   ]
  },
  {
   "cell_type": "code",
   "execution_count": 3,
   "metadata": {
    "_uuid": "9df56067843216f2abfadbf65b6d90fc27be35e4"
   },
   "outputs": [
    {
     "data": {
      "text/plain": [
       "(220025, 2)"
      ]
     },
     "execution_count": 3,
     "metadata": {},
     "output_type": "execute_result"
    }
   ],
   "source": [
    "train_labels = read_csv(\"../input/train_labels.csv\")\n",
    "train_labels.shape"
   ]
  },
  {
   "cell_type": "code",
   "execution_count": 4,
   "metadata": {
    "_uuid": "ad6897cd01a6b7c91af6b4f5d0f83807453b9609"
   },
   "outputs": [
    {
     "data": {
      "text/html": [
       "<div>\n",
       "<style scoped>\n",
       "    .dataframe tbody tr th:only-of-type {\n",
       "        vertical-align: middle;\n",
       "    }\n",
       "\n",
       "    .dataframe tbody tr th {\n",
       "        vertical-align: top;\n",
       "    }\n",
       "\n",
       "    .dataframe thead th {\n",
       "        text-align: right;\n",
       "    }\n",
       "</style>\n",
       "<table border=\"1\" class=\"dataframe\">\n",
       "  <thead>\n",
       "    <tr style=\"text-align: right;\">\n",
       "      <th></th>\n",
       "      <th>id</th>\n",
       "      <th>label</th>\n",
       "    </tr>\n",
       "  </thead>\n",
       "  <tbody>\n",
       "    <tr>\n",
       "      <th>0</th>\n",
       "      <td>f38a6374c348f90b587e046aac6079959adf3835</td>\n",
       "      <td>0</td>\n",
       "    </tr>\n",
       "    <tr>\n",
       "      <th>1</th>\n",
       "      <td>c18f2d887b7ae4f6742ee445113fa1aef383ed77</td>\n",
       "      <td>1</td>\n",
       "    </tr>\n",
       "    <tr>\n",
       "      <th>2</th>\n",
       "      <td>755db6279dae599ebb4d39a9123cce439965282d</td>\n",
       "      <td>0</td>\n",
       "    </tr>\n",
       "    <tr>\n",
       "      <th>3</th>\n",
       "      <td>bc3f0c64fb968ff4a8bd33af6971ecae77c75e08</td>\n",
       "      <td>0</td>\n",
       "    </tr>\n",
       "    <tr>\n",
       "      <th>4</th>\n",
       "      <td>068aba587a4950175d04c680d38943fd488d6a9d</td>\n",
       "      <td>0</td>\n",
       "    </tr>\n",
       "  </tbody>\n",
       "</table>\n",
       "</div>"
      ],
      "text/plain": [
       "                                         id  label\n",
       "0  f38a6374c348f90b587e046aac6079959adf3835      0\n",
       "1  c18f2d887b7ae4f6742ee445113fa1aef383ed77      1\n",
       "2  755db6279dae599ebb4d39a9123cce439965282d      0\n",
       "3  bc3f0c64fb968ff4a8bd33af6971ecae77c75e08      0\n",
       "4  068aba587a4950175d04c680d38943fd488d6a9d      0"
      ]
     },
     "execution_count": 4,
     "metadata": {},
     "output_type": "execute_result"
    }
   ],
   "source": [
    "# removing this image because it caused a training error previously\n",
    "train_labels[train_labels['id'] != 'dd6dfed324f9fcb6f93f46f32fc800f2ec196be2']\n",
    "\n",
    "# removing this image because it's black\n",
    "train_labels[train_labels['id'] != '9369c7278ec8bcc6c880d99194de09fc2bd4efbe']\n",
    "train_labels.head()"
   ]
  },
  {
   "cell_type": "code",
   "execution_count": 5,
   "metadata": {
    "_uuid": "3514e0aa200308198dee65fed94112f0c46c5a20"
   },
   "outputs": [
    {
     "data": {
      "image/png": "[encoded data removed]",
      "text/plain": [
       "<Figure size 432x288 with 1 Axes>"
      ]
     },
     "metadata": {},
     "output_type": "display_data"
    },
    {
     "data": {
      "text/plain": [
       "0    130908\n",
       "1     89117\n",
       "Name: label, dtype: int64"
      ]
     },
     "execution_count": 5,
     "metadata": {},
     "output_type": "execute_result"
    }
   ],
   "source": [
    "seaborn.countplot(train_labels.iloc[:,1])\n",
    "pyplot.ylabel('Count', fontsize = 16)\n",
    "pyplot.xlabel('Labels', fontsize = 16)\n",
    "pyplot.ylim(0,150000)\n",
    "pyplot.show()\n",
    "train_labels.iloc[:,1].value_counts()"
   ]
  },
  {
   "cell_type": "code",
   "execution_count": 6,
   "metadata": {
    "_uuid": "b5d02d441c37af19e303dffb4fbbdbd65683c271"
   },
   "outputs": [
    {
     "data": {
      "text/plain": [
       "1    80000\n",
       "0    80000\n",
       "Name: label, dtype: int64"
      ]
     },
     "execution_count": 6,
     "metadata": {},
     "output_type": "execute_result"
    }
   ],
   "source": [
    "SAMPLE_SIZE = 80000\n",
    "# take a random sample of class 0 with size equal to num samples in class 1\n",
    "train_labels_0 = train_labels[train_labels['label'] == 0].sample(SAMPLE_SIZE, random_state = 0)\n",
    "# filter out class 1\n",
    "train_labels_1 = train_labels[train_labels['label'] == 1].sample(SAMPLE_SIZE, random_state = 0)\n",
    "\n",
    "# concat the dataframes\n",
    "train_labels = concat([train_labels_0, train_labels_1], axis = 0).reset_index(drop = True)\n",
    "# shuffle\n",
    "train_labels = shuffle(train_labels)\n",
    "\n",
    "train_labels['label'].value_counts()"
   ]
  },
  {
   "cell_type": "code",
   "execution_count": 7,
   "metadata": {
    "_uuid": "2e94df04b8c7ad358cfffcf5593cb872dfb56bd5"
   },
   "outputs": [
    {
     "name": "stdout",
     "output_type": "stream",
     "text": [
      "No. of train samples :  (128000, 2)\n",
      "No. of valid samples :  (32000, 2)\n"
     ]
    }
   ],
   "source": [
    "class_labels= train_labels['label']\n",
    "train,valid = train_test_split(train_labels, test_size=0.2, random_state = 0, stratify =class_labels)\n",
    "print(\"No. of train samples : \",train.shape)\n",
    "print(\"No. of valid samples : \",valid.shape)"
   ]
  },
  {
   "cell_type": "code",
   "execution_count": 8,
   "metadata": {
    "_uuid": "3ed9b4534026b00239d381b64a09d251742a3c61"
   },
   "outputs": [
    {
     "data": {
      "text/html": [
       "<div>\n",
       "<style scoped>\n",
       "    .dataframe tbody tr th:only-of-type {\n",
       "        vertical-align: middle;\n",
       "    }\n",
       "\n",
       "    .dataframe tbody tr th {\n",
       "        vertical-align: top;\n",
       "    }\n",
       "\n",
       "    .dataframe thead th {\n",
       "        text-align: right;\n",
       "    }\n",
       "</style>\n",
       "<table border=\"1\" class=\"dataframe\">\n",
       "  <thead>\n",
       "    <tr style=\"text-align: right;\">\n",
       "      <th></th>\n",
       "      <th>id</th>\n",
       "      <th>label</th>\n",
       "    </tr>\n",
       "  </thead>\n",
       "  <tbody>\n",
       "    <tr>\n",
       "      <th>57974</th>\n",
       "      <td>0bbc2cbd50475ecca6d7385ca8f0bfd17d1d7570</td>\n",
       "      <td>0</td>\n",
       "    </tr>\n",
       "    <tr>\n",
       "      <th>81935</th>\n",
       "      <td>c6a4806db034037cf47da6c5cb37495cf06163e9</td>\n",
       "      <td>1</td>\n",
       "    </tr>\n",
       "    <tr>\n",
       "      <th>87182</th>\n",
       "      <td>7762f8fdd1157cd69ec76c8e2ecb21771c5a6220</td>\n",
       "      <td>1</td>\n",
       "    </tr>\n",
       "    <tr>\n",
       "      <th>82530</th>\n",
       "      <td>c66b8dcaf03656369e15e8f23fec141c60d0755a</td>\n",
       "      <td>1</td>\n",
       "    </tr>\n",
       "    <tr>\n",
       "      <th>31672</th>\n",
       "      <td>a70dee70a7b1e71ead8f704ebd234f7e2cd9868a</td>\n",
       "      <td>0</td>\n",
       "    </tr>\n",
       "  </tbody>\n",
       "</table>\n",
       "</div>"
      ],
      "text/plain": [
       "                                             id  label\n",
       "57974  0bbc2cbd50475ecca6d7385ca8f0bfd17d1d7570      0\n",
       "81935  c6a4806db034037cf47da6c5cb37495cf06163e9      1\n",
       "87182  7762f8fdd1157cd69ec76c8e2ecb21771c5a6220      1\n",
       "82530  c66b8dcaf03656369e15e8f23fec141c60d0755a      1\n",
       "31672  a70dee70a7b1e71ead8f704ebd234f7e2cd9868a      0"
      ]
     },
     "execution_count": 8,
     "metadata": {},
     "output_type": "execute_result"
    }
   ],
   "source": [
    "train.head()"
   ]
  },
  {
   "cell_type": "code",
   "execution_count": 9,
   "metadata": {
    "_uuid": "8b941d83a00fa7036e499e8c274f420d9aee82a4",
    "scrolled": true
   },
   "outputs": [
    {
     "data": {
      "text/html": [
       "<div>\n",
       "<style scoped>\n",
       "    .dataframe tbody tr th:only-of-type {\n",
       "        vertical-align: middle;\n",
       "    }\n",
       "\n",
       "    .dataframe tbody tr th {\n",
       "        vertical-align: top;\n",
       "    }\n",
       "\n",
       "    .dataframe thead th {\n",
       "        text-align: right;\n",
       "    }\n",
       "</style>\n",
       "<table border=\"1\" class=\"dataframe\">\n",
       "  <thead>\n",
       "    <tr style=\"text-align: right;\">\n",
       "      <th></th>\n",
       "      <th>id</th>\n",
       "      <th>label</th>\n",
       "    </tr>\n",
       "  </thead>\n",
       "  <tbody>\n",
       "    <tr>\n",
       "      <th>58452</th>\n",
       "      <td>cf769987bb42fe4763f72985940f96ecc3f09f16</td>\n",
       "      <td>0</td>\n",
       "    </tr>\n",
       "    <tr>\n",
       "      <th>102147</th>\n",
       "      <td>3abb47d148b99ebfe05e8c807578aee137885cc6</td>\n",
       "      <td>1</td>\n",
       "    </tr>\n",
       "    <tr>\n",
       "      <th>118438</th>\n",
       "      <td>633faec36e335b90633a2392cc467ba099157f1a</td>\n",
       "      <td>1</td>\n",
       "    </tr>\n",
       "    <tr>\n",
       "      <th>153713</th>\n",
       "      <td>645af4ab308daac080a44462f688c071da259021</td>\n",
       "      <td>1</td>\n",
       "    </tr>\n",
       "    <tr>\n",
       "      <th>59769</th>\n",
       "      <td>7f6f0305711371233b80e0634df188c6dee619dd</td>\n",
       "      <td>0</td>\n",
       "    </tr>\n",
       "  </tbody>\n",
       "</table>\n",
       "</div>"
      ],
      "text/plain": [
       "                                              id  label\n",
       "58452   cf769987bb42fe4763f72985940f96ecc3f09f16      0\n",
       "102147  3abb47d148b99ebfe05e8c807578aee137885cc6      1\n",
       "118438  633faec36e335b90633a2392cc467ba099157f1a      1\n",
       "153713  645af4ab308daac080a44462f688c071da259021      1\n",
       "59769   7f6f0305711371233b80e0634df188c6dee619dd      0"
      ]
     },
     "execution_count": 9,
     "metadata": {},
     "output_type": "execute_result"
    }
   ],
   "source": [
    "valid.head()"
   ]
  },
  {
   "cell_type": "code",
   "execution_count": 10,
   "metadata": {
    "_uuid": "ff08c3aac8bd1751d73e59ee097f1bee51ab39be",
    "scrolled": true
   },
   "outputs": [
    {
     "name": "stdout",
     "output_type": "stream",
     "text": [
      "Copying train data\n",
      "Copied  0 Files\n",
      "Copied  10000 Files\n",
      "Copied  20000 Files\n",
      "Copied  30000 Files\n",
      "Copied  40000 Files\n",
      "Copied  50000 Files\n",
      "Copied  60000 Files\n",
      "Copied  70000 Files\n",
      "Copied  80000 Files\n",
      "Copied  90000 Files\n",
      "Copied  100000 Files\n",
      "Copied  110000 Files\n",
      "Copied  120000 Files\n",
      "Copying valid data\n",
      "Copied  0 Files\n",
      "Copied  5000 Files\n",
      "Copied  10000 Files\n",
      "Copied  15000 Files\n",
      "Copied  20000 Files\n",
      "Copied  25000 Files\n",
      "Copied  30000 Files\n"
     ]
    }
   ],
   "source": [
    "print(\"Copying train data\")\n",
    "for i in range(0,train.shape[0]):\n",
    "    if(i%10000==0):\n",
    "        print(\"Copied \",i,\"Files\")\n",
    "    if train.iloc[i,1]==0:\n",
    "        copyfile(\"../input/train/\"+train.iloc[i,0]+\".tif\", \"../train_folder/0/\"+train.iloc[i,0]+\".tif\")\n",
    "    else:\n",
    "        copyfile(\"../input/train/\"+train.iloc[i,0]+\".tif\", \"../train_folder/1/\"+train.iloc[i,0]+\".tif\")\n",
    "print(\"Copying valid data\")\n",
    "for i in range(0,valid.shape[0]):\n",
    "    if(i%5000==0):\n",
    "        print(\"Copied \",i,\"Files\")\n",
    "    if valid.iloc[i,1]==0:\n",
    "        copyfile(\"../input/train/\"+valid.iloc[i,0]+\".tif\", \"../valid_folder/0/\"+valid.iloc[i,0]+\".tif\")\n",
    "    else:\n",
    "        copyfile(\"../input/train/\"+valid.iloc[i,0]+\".tif\", \"../valid_folder/1/\"+valid.iloc[i,0]+\".tif\")\n"
   ]
  },
  {
   "cell_type": "code",
   "execution_count": 11,
   "metadata": {
    "_uuid": "e92ac70f0c0703a362b9c8c88c45928f8bc839c5",
    "scrolled": false
   },
   "outputs": [],
   "source": [
    "for i in os.listdir('../input/test'):\n",
    "    copyfile(\"../input/test/\"+i, \"../test_folder/test/\"+i)"
   ]
  },
  {
   "cell_type": "code",
   "execution_count": 12,
   "metadata": {
    "_uuid": "9f6950d669ce9958e1afb87286961316a20de013"
   },
   "outputs": [
    {
     "name": "stdout",
     "output_type": "stream",
     "text": [
      "64000\n",
      "64000\n",
      "16000\n",
      "16000\n",
      "57458\n"
     ]
    }
   ],
   "source": [
    "print(len(os.listdir('../train_folder/0')))\n",
    "print(len(os.listdir('../train_folder/1')))\n",
    "print(len(os.listdir('../valid_folder/1')))\n",
    "print(len(os.listdir('../valid_folder/1')))\n",
    "print(len(os.listdir('../test_folder/test/')))"
   ]
  },
  {
   "cell_type": "code",
   "execution_count": 13,
   "metadata": {
    "_uuid": "6f9f81528645ff55322c22c6e4f5c5be90e9bcc1"
   },
   "outputs": [
    {
     "name": "stdout",
     "output_type": "stream",
     "text": [
      "Found 128000 images belonging to 2 classes.\n",
      "Found 32000 images belonging to 2 classes.\n",
      "Found 57458 images belonging to 1 classes.\n"
     ]
    }
   ],
   "source": [
    "\n",
    "IMAGE_SIZE = 96\n",
    "train_path = '../train_folder/'\n",
    "valid_path = '../valid_folder/'\n",
    "test_path = '../test_folder/'\n",
    "\n",
    "num_train_samples = len(train)\n",
    "num_val_samples = len(valid)\n",
    "train_batch_size = 32\n",
    "val_batch_size = 32\n",
    "\n",
    "\n",
    "train_steps = ceil(num_train_samples / train_batch_size)\n",
    "val_steps = ceil(num_val_samples / val_batch_size)\n",
    "\n",
    "\n",
    "datagen = ImageDataGenerator(rescale=1.0/255)\n",
    "\n",
    "train_gen = datagen.flow_from_directory(train_path,\n",
    "                                        target_size=(IMAGE_SIZE,IMAGE_SIZE),\n",
    "                                        batch_size=train_batch_size,\n",
    "                                        class_mode='categorical')\n",
    "\n",
    "val_gen = datagen.flow_from_directory(valid_path,\n",
    "                                        target_size=(IMAGE_SIZE,IMAGE_SIZE),\n",
    "                                        batch_size=val_batch_size,\n",
    "                                        class_mode='categorical')\n",
    "\n",
    "test_gen = datagen.flow_from_directory(test_path,\n",
    "                                        target_size=(IMAGE_SIZE,IMAGE_SIZE),\n",
    "                                        batch_size=1,\n",
    "                                        class_mode='categorical',\n",
    "                                        shuffle=False)"
   ]
  },
  {
   "cell_type": "code",
   "execution_count": 14,
   "metadata": {
    "_uuid": "d5932f0b6dd769f000ab14ab3e8cf08ef1b63cf3"
   },
   "outputs": [
    {
     "name": "stdout",
     "output_type": "stream",
     "text": [
      "_________________________________________________________________\n",
      "Layer (type)                 Output Shape              Param #   \n",
      "=================================================================\n",
      "conv2d_1 (Conv2D)            (None, 96, 96, 32)        896       \n",
      "_________________________________________________________________\n",
      "batch_normalization_1 (Batch (None, 96, 96, 32)        128       \n",
      "_________________________________________________________________\n",
      "conv2d_2 (Conv2D)            (None, 96, 96, 32)        9248      \n",
      "_________________________________________________________________\n",
      "batch_normalization_2 (Batch (None, 96, 96, 32)        128       \n",
      "_________________________________________________________________\n",
      "max_pooling2d_1 (MaxPooling2 (None, 48, 48, 32)        0         \n",
      "_________________________________________________________________\n",
      "dropout_1 (Dropout)          (None, 48, 48, 32)        0         \n",
      "_________________________________________________________________\n",
      "conv2d_3 (Conv2D)            (None, 48, 48, 64)        18496     \n",
      "_________________________________________________________________\n",
      "batch_normalization_3 (Batch (None, 48, 48, 64)        256       \n",
      "_________________________________________________________________\n",
      "conv2d_4 (Conv2D)            (None, 48, 48, 64)        36928     \n",
      "_________________________________________________________________\n",
      "batch_normalization_4 (Batch (None, 48, 48, 64)        256       \n",
      "_________________________________________________________________\n",
      "max_pooling2d_2 (MaxPooling2 (None, 24, 24, 64)        0         \n",
      "_________________________________________________________________\n",
      "dropout_2 (Dropout)          (None, 24, 24, 64)        0         \n",
      "_________________________________________________________________\n",
      "conv2d_5 (Conv2D)            (None, 24, 24, 128)       73856     \n",
      "_________________________________________________________________\n",
      "batch_normalization_5 (Batch (None, 24, 24, 128)       512       \n",
      "_________________________________________________________________\n",
      "conv2d_6 (Conv2D)            (None, 24, 24, 128)       147584    \n",
      "_________________________________________________________________\n",
      "batch_normalization_6 (Batch (None, 24, 24, 128)       512       \n",
      "_________________________________________________________________\n",
      "max_pooling2d_3 (MaxPooling2 (None, 12, 12, 128)       0         \n",
      "_________________________________________________________________\n",
      "dropout_3 (Dropout)          (None, 12, 12, 128)       0         \n",
      "_________________________________________________________________\n",
      "flatten_1 (Flatten)          (None, 18432)             0         \n",
      "_________________________________________________________________\n",
      "dense_1 (Dense)              (None, 256)               4718848   \n",
      "_________________________________________________________________\n",
      "batch_normalization_7 (Batch (None, 256)               1024      \n",
      "_________________________________________________________________\n",
      "dropout_4 (Dropout)          (None, 256)               0         \n",
      "_________________________________________________________________\n",
      "dense_2 (Dense)              (None, 2)                 514       \n",
      "=================================================================\n",
      "Total params: 5,009,186\n",
      "Trainable params: 5,007,778\n",
      "Non-trainable params: 1,408\n",
      "_________________________________________________________________\n"
     ]
    }
   ],
   "source": [
    "model = Sequential()\n",
    "model.add(Conv2D(32,kernel_size=(3,3),input_shape=(96,96,3),activation='relu',padding='same'))\n",
    "model.add(BatchNormalization(axis=-1))\n",
    "model.add(Conv2D(32,kernel_size=(3,3),activation='relu',padding='same'))\n",
    "model.add(BatchNormalization(axis=-1))\n",
    "model.add(MaxPool2D(pool_size=(2,2)))\n",
    "model.add(Dropout(0.25))\n",
    "\n",
    "model.add(Conv2D(64,kernel_size=(3,3),activation='relu',padding='same'))\n",
    "model.add(BatchNormalization(axis=-1))\n",
    "model.add(Conv2D(64,kernel_size=(3,3),activation='relu',padding='same'))\n",
    "model.add(BatchNormalization(axis=-1))\n",
    "model.add(MaxPool2D(pool_size=(2,2)))\n",
    "model.add(Dropout(0.25))\n",
    "\n",
    "model.add(Conv2D(128,kernel_size=(3,3),activation='relu',padding='same'))\n",
    "model.add(BatchNormalization(axis=-1))\n",
    "model.add(Conv2D(128,kernel_size=(3,3),activation='relu',padding='same'))\n",
    "model.add(BatchNormalization(axis=-1))\n",
    "model.add(MaxPool2D(pool_size=(2,2)))\n",
    "model.add(Dropout(0.25))\n",
    "\n",
    "model.add(Flatten())\n",
    "model.add(Dense(256,activation='relu'))\n",
    "model.add(BatchNormalization())\n",
    "model.add(Dropout(0.25))\n",
    "model.add(Dense(2, activation = \"softmax\"))\n",
    "model.summary()"
   ]
  },
  {
   "cell_type": "code",
   "execution_count": 15,
   "metadata": {
    "_uuid": "f6d6638c88e7e128672592ef0c339933a081c3c5"
   },
   "outputs": [],
   "source": [
    "model.compile(optimizer='sgd', loss='binary_crossentropy', metrics=['accuracy'])"
   ]
  },
  {
   "cell_type": "code",
   "execution_count": 16,
   "metadata": {
    "_uuid": "df314988f5e48172a5c7de7436698c463fe23589"
   },
   "outputs": [
    {
     "name": "stdout",
     "output_type": "stream",
     "text": [
      "Epoch 1/10\n",
      "4000/4000 [==============================] - 1206s 301ms/step - loss: 0.4063 - acc: 0.8221 - val_loss: 1.3806 - val_acc: 0.7428\n",
      "\n",
      "Epoch 00001: val_acc improved from -inf to 0.74278, saving model to checkpoint-01.hdf5\n",
      "Epoch 2/10\n",
      "2413/4000 [=================>............] - ETA: 6:37 - loss: 0.3440 - acc: 0.8531"
     ]
    }
   ],
   "source": [
    "\n",
    "\n",
    "checkpoint = ModelCheckpoint(filepath=\"checkpoint-{epoch:02d}.hdf5\", verbose=1, \n",
    "                                       save_best_only=True, monitor=\"val_acc\",mode = 'max')\n",
    "\n",
    "reduce_lr = ReduceLROnPlateau(monitor='val_acc', factor = 0.5, patience = 2, verbose = 1, mode = 'max', min_lr = 0.00001)                              \n",
    "callbacks_list = [checkpoint, reduce_lr] # LR Scheduler Used here\n",
    "\n",
    "history = model.fit_generator(train_gen, steps_per_epoch = train_steps, \n",
    "                    validation_data = val_gen,\n",
    "                    validation_steps = val_steps,\n",
    "                    epochs = 10,\n",
    "                    verbose = 1,\n",
    "                    callbacks = callbacks_list)"
   ]
  },
  {
   "cell_type": "code",
   "execution_count": 17,
   "metadata": {
    "_uuid": "b4ddd04844a1b942f559885be542487a8f0cf415"
   },
   "outputs": [
    {
     "name": "stdout",
     "output_type": "stream",
     "text": [
      "11289/57458 [====>.........................] - ETA: 1:06:28"
     ]
    }
   ],
   "source": [
    "predictions = model.predict_generator(test_gen, steps=57458, verbose=1)"
   ]
  },
  {
   "cell_type": "code",
   "execution_count": 18,
   "metadata": {
    "_uuid": "cdc541d88f792b0dcf562397d1f2b0e79dd4bd58"
   },
   "outputs": [
    {
     "data": {
      "text/html": [
       "<div>\n",
       "<style scoped>\n",
       "    .dataframe tbody tr th:only-of-type {\n",
       "        vertical-align: middle;\n",
       "    }\n",
       "\n",
       "    .dataframe tbody tr th {\n",
       "        vertical-align: top;\n",
       "    }\n",
       "\n",
       "    .dataframe thead th {\n",
       "        text-align: right;\n",
       "    }\n",
       "</style>\n",
       "<table border=\"1\" class=\"dataframe\">\n",
       "  <thead>\n",
       "    <tr style=\"text-align: right;\">\n",
       "      <th></th>\n",
       "      <th>no_tumor</th>\n",
       "      <th>has_tumor</th>\n",
       "    </tr>\n",
       "  </thead>\n",
       "  <tbody>\n",
       "    <tr>\n",
       "      <th>0</th>\n",
       "      <td>0.000004</td>\n",
       "      <td>0.999996</td>\n",
       "    </tr>\n",
       "    <tr>\n",
       "      <th>1</th>\n",
       "      <td>0.034858</td>\n",
       "      <td>0.965142</td>\n",
       "    </tr>\n",
       "    <tr>\n",
       "      <th>2</th>\n",
       "      <td>0.002360</td>\n",
       "      <td>0.997640</td>\n",
       "    </tr>\n",
       "    <tr>\n",
       "      <th>3</th>\n",
       "      <td>0.519309</td>\n",
       "      <td>0.480691</td>\n",
       "    </tr>\n",
       "    <tr>\n",
       "      <th>4</th>\n",
       "      <td>0.993858</td>\n",
       "      <td>0.006142</td>\n",
       "    </tr>\n",
       "  </tbody>\n",
       "</table>\n",
       "</div>"
      ],
      "text/plain": [
       "   no_tumor  has_tumor\n",
       "0  0.000004   0.999996\n",
       "1  0.034858   0.965142\n",
       "2  0.002360   0.997640\n",
       "3  0.519309   0.480691\n",
       "4  0.993858   0.006142"
      ]
     },
     "execution_count": 18,
     "metadata": {},
     "output_type": "execute_result"
    }
   ],
   "source": [
    "df_preds = DataFrame(predictions, columns=['no_tumor', 'has_tumor'])\n",
    "df_preds.head()"
   ]
  },
  {
   "cell_type": "code",
   "execution_count": 19,
   "metadata": {
    "_uuid": "ec9680efa09bcf9e7b665718c5997aa1313fc5bb"
   },
   "outputs": [
    {
     "data": {
      "text/html": [
       "<div>\n",
       "<style scoped>\n",
       "    .dataframe tbody tr th:only-of-type {\n",
       "        vertical-align: middle;\n",
       "    }\n",
       "\n",
       "    .dataframe tbody tr th {\n",
       "        vertical-align: top;\n",
       "    }\n",
       "\n",
       "    .dataframe thead th {\n",
       "        text-align: right;\n",
       "    }\n",
       "</style>\n",
       "<table border=\"1\" class=\"dataframe\">\n",
       "  <thead>\n",
       "    <tr style=\"text-align: right;\">\n",
       "      <th></th>\n",
       "      <th>no_tumor</th>\n",
       "      <th>has_tumor</th>\n",
       "      <th>file_names</th>\n",
       "      <th>id</th>\n",
       "    </tr>\n",
       "  </thead>\n",
       "  <tbody>\n",
       "    <tr>\n",
       "      <th>0</th>\n",
       "      <td>0.000004</td>\n",
       "      <td>0.999996</td>\n",
       "      <td>test/00006537328c33e284c973d7b39d340809f7271b.tif</td>\n",
       "      <td>00006537328c33e284c973d7b39d340809f7271b</td>\n",
       "    </tr>\n",
       "    <tr>\n",
       "      <th>1</th>\n",
       "      <td>0.034858</td>\n",
       "      <td>0.965142</td>\n",
       "      <td>test/0000ec92553fda4ce39889f9226ace43cae3364e.tif</td>\n",
       "      <td>0000ec92553fda4ce39889f9226ace43cae3364e</td>\n",
       "    </tr>\n",
       "    <tr>\n",
       "      <th>2</th>\n",
       "      <td>0.002360</td>\n",
       "      <td>0.997640</td>\n",
       "      <td>test/00024a6dee61f12f7856b0fc6be20bc7a48ba3d2.tif</td>\n",
       "      <td>00024a6dee61f12f7856b0fc6be20bc7a48ba3d2</td>\n",
       "    </tr>\n",
       "    <tr>\n",
       "      <th>3</th>\n",
       "      <td>0.519309</td>\n",
       "      <td>0.480691</td>\n",
       "      <td>test/000253dfaa0be9d0d100283b22284ab2f6b643f6.tif</td>\n",
       "      <td>000253dfaa0be9d0d100283b22284ab2f6b643f6</td>\n",
       "    </tr>\n",
       "    <tr>\n",
       "      <th>4</th>\n",
       "      <td>0.993858</td>\n",
       "      <td>0.006142</td>\n",
       "      <td>test/000270442cc15af719583a8172c87cd2bd9c7746.tif</td>\n",
       "      <td>000270442cc15af719583a8172c87cd2bd9c7746</td>\n",
       "    </tr>\n",
       "  </tbody>\n",
       "</table>\n",
       "</div>"
      ],
      "text/plain": [
       "   no_tumor                    ...                                                           id\n",
       "0  0.000004                    ...                     00006537328c33e284c973d7b39d340809f7271b\n",
       "1  0.034858                    ...                     0000ec92553fda4ce39889f9226ace43cae3364e\n",
       "2  0.002360                    ...                     00024a6dee61f12f7856b0fc6be20bc7a48ba3d2\n",
       "3  0.519309                    ...                     000253dfaa0be9d0d100283b22284ab2f6b643f6\n",
       "4  0.993858                    ...                     000270442cc15af719583a8172c87cd2bd9c7746\n",
       "\n",
       "[5 rows x 4 columns]"
      ]
     },
     "execution_count": 19,
     "metadata": {},
     "output_type": "execute_result"
    }
   ],
   "source": [
    "# This outputs the file names in the sequence in which the generator processed the test images.\n",
    "test_filenames = test_gen.filenames\n",
    "\n",
    "# add the filenames to the dataframe\n",
    "df_preds['file_names'] = test_filenames\n",
    "\n",
    "# Create an id column\n",
    "# A file name now has this format: \n",
    "# images/00006537328c33e284c973d7b39d340809f7271b.tif\n",
    "\n",
    "# This function will extract the id:\n",
    "# 00006537328c33e284c973d7b39d340809f7271b\n",
    "def extract_id(x):\n",
    "    \n",
    "    # split into a list\n",
    "    a = x.split('/')\n",
    "    # split into a list\n",
    "    b = a[1].split('.')\n",
    "    extracted_id = b[0]\n",
    "    \n",
    "    return extracted_id\n",
    "\n",
    "df_preds['id'] = df_preds['file_names'].apply(extract_id)\n",
    "\n",
    "df_preds.head()"
   ]
  },
  {
   "cell_type": "code",
   "execution_count": 20,
   "metadata": {
    "_uuid": "df18803c434d4fe0374dc670af501b56791535ae"
   },
   "outputs": [],
   "source": [
    "# Get the predicted labels.\n",
    "# We were asked to predict a probability that the image has tumor tissue\n",
    "y_pred = df_preds['has_tumor']\n",
    "\n",
    "# get the id column\n",
    "image_id = df_preds['id']"
   ]
  },
  {
   "cell_type": "code",
   "execution_count": 21,
   "metadata": {
    "_uuid": "fa9cbfdf60d51543d038fd4be7ea14256ffcbb3c"
   },
   "outputs": [],
   "source": [
    "submission = DataFrame({'id':image_id, \n",
    "                           'label':y_pred, \n",
    "                          }).set_index('id')\n",
    "\n",
    "submission.to_csv('submission.csv', columns=['label'])"
   ]
  }
 ],
 "metadata": {
  "kernelspec": {
   "display_name": "Python 3",
   "language": "python",
   "name": "python3"
  },
  "language_info": {
   "codemirror_mode": {
    "name": "ipython",
    "version": 3
   },
   "file_extension": ".py",
   "mimetype": "text/x-python",
   "name": "python",
   "nbconvert_exporter": "python",
   "pygments_lexer": "ipython3",
   "version": "3.6.6"
  }
 },
 "nbformat": 4,
 "nbformat_minor": 1
}
